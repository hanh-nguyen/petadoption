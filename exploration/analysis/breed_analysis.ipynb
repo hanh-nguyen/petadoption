{
 "cells": [
  {
   "cell_type": "markdown",
   "metadata": {},
   "source": [
    "## Summary of findings\n",
    "\n",
    "\"Mixed Breed\" for dogs (\\~73%) and \"Domestic\" breeds for cats (\\~75.5%) make up the majority of breeds in the distribution. For pets with these breeds, it's likely that other factors, like color, size, etc., will be needed to differentiate between the pets.\n",
    "\n",
    "It may be possible to group the remaining breeds into tiers of popularity, but there is a long tail of breed frequency for both dogs and cats, so grouping different breeds together based on popularity may not be very useful.\n",
    "\n",
    "One additional observation is that there are some data lines that cover multipl"
   ]
  },
  {
   "cell_type": "code",
   "execution_count": 1,
   "metadata": {},
   "outputs": [],
   "source": [
    "import pandas as pd\n",
    "import numpy as np\n",
    "import matplotlib.pyplot as plt\n",
    "import seaborn as sns"
   ]
  },
  {
   "cell_type": "code",
   "execution_count": 2,
   "metadata": {},
   "outputs": [],
   "source": [
    "def ecdf(data):\n",
    "    \"\"\"Function to return coordinates to use for an ECDF\"\"\"\n",
    "    \n",
    "    x = np.sort(data)\n",
    "    y = np.arange(1, len(x) + 1) / len(x)\n",
    "    return x, y"
   ]
  },
  {
   "cell_type": "code",
   "execution_count": 3,
   "metadata": {},
   "outputs": [
    {
     "data": {
      "text/html": [
       "<div>\n",
       "<style scoped>\n",
       "    .dataframe tbody tr th:only-of-type {\n",
       "        vertical-align: middle;\n",
       "    }\n",
       "\n",
       "    .dataframe tbody tr th {\n",
       "        vertical-align: top;\n",
       "    }\n",
       "\n",
       "    .dataframe thead th {\n",
       "        text-align: right;\n",
       "    }\n",
       "</style>\n",
       "<table border=\"1\" class=\"dataframe\">\n",
       "  <thead>\n",
       "    <tr style=\"text-align: right;\">\n",
       "      <th></th>\n",
       "      <th>Type</th>\n",
       "      <th>Name</th>\n",
       "      <th>Age</th>\n",
       "      <th>Breed1</th>\n",
       "      <th>Breed2</th>\n",
       "      <th>Gender</th>\n",
       "      <th>Color1</th>\n",
       "      <th>Color2</th>\n",
       "      <th>Color3</th>\n",
       "      <th>MaturitySize</th>\n",
       "      <th>...</th>\n",
       "      <th>Health</th>\n",
       "      <th>Quantity</th>\n",
       "      <th>Fee</th>\n",
       "      <th>State</th>\n",
       "      <th>RescuerID</th>\n",
       "      <th>VideoAmt</th>\n",
       "      <th>Description</th>\n",
       "      <th>PetID</th>\n",
       "      <th>PhotoAmt</th>\n",
       "      <th>AdoptionSpeed</th>\n",
       "    </tr>\n",
       "  </thead>\n",
       "  <tbody>\n",
       "    <tr>\n",
       "      <th>0</th>\n",
       "      <td>2</td>\n",
       "      <td>Nibble</td>\n",
       "      <td>3</td>\n",
       "      <td>299</td>\n",
       "      <td>0</td>\n",
       "      <td>1</td>\n",
       "      <td>1</td>\n",
       "      <td>7</td>\n",
       "      <td>0</td>\n",
       "      <td>1</td>\n",
       "      <td>...</td>\n",
       "      <td>1</td>\n",
       "      <td>1</td>\n",
       "      <td>100</td>\n",
       "      <td>41326</td>\n",
       "      <td>8480853f516546f6cf33aa88cd76c379</td>\n",
       "      <td>0</td>\n",
       "      <td>Nibble is a 3+ month old ball of cuteness. He ...</td>\n",
       "      <td>86e1089a3</td>\n",
       "      <td>1.0</td>\n",
       "      <td>2</td>\n",
       "    </tr>\n",
       "    <tr>\n",
       "      <th>1</th>\n",
       "      <td>2</td>\n",
       "      <td>No Name Yet</td>\n",
       "      <td>1</td>\n",
       "      <td>265</td>\n",
       "      <td>0</td>\n",
       "      <td>1</td>\n",
       "      <td>1</td>\n",
       "      <td>2</td>\n",
       "      <td>0</td>\n",
       "      <td>2</td>\n",
       "      <td>...</td>\n",
       "      <td>1</td>\n",
       "      <td>1</td>\n",
       "      <td>0</td>\n",
       "      <td>41401</td>\n",
       "      <td>3082c7125d8fb66f7dd4bff4192c8b14</td>\n",
       "      <td>0</td>\n",
       "      <td>I just found it alone yesterday near my apartm...</td>\n",
       "      <td>6296e909a</td>\n",
       "      <td>2.0</td>\n",
       "      <td>0</td>\n",
       "    </tr>\n",
       "    <tr>\n",
       "      <th>2</th>\n",
       "      <td>1</td>\n",
       "      <td>Brisco</td>\n",
       "      <td>1</td>\n",
       "      <td>307</td>\n",
       "      <td>0</td>\n",
       "      <td>1</td>\n",
       "      <td>2</td>\n",
       "      <td>7</td>\n",
       "      <td>0</td>\n",
       "      <td>2</td>\n",
       "      <td>...</td>\n",
       "      <td>1</td>\n",
       "      <td>1</td>\n",
       "      <td>0</td>\n",
       "      <td>41326</td>\n",
       "      <td>fa90fa5b1ee11c86938398b60abc32cb</td>\n",
       "      <td>0</td>\n",
       "      <td>Their pregnant mother was dumped by her irresp...</td>\n",
       "      <td>3422e4906</td>\n",
       "      <td>7.0</td>\n",
       "      <td>3</td>\n",
       "    </tr>\n",
       "    <tr>\n",
       "      <th>3</th>\n",
       "      <td>1</td>\n",
       "      <td>Miko</td>\n",
       "      <td>4</td>\n",
       "      <td>307</td>\n",
       "      <td>0</td>\n",
       "      <td>2</td>\n",
       "      <td>1</td>\n",
       "      <td>2</td>\n",
       "      <td>0</td>\n",
       "      <td>2</td>\n",
       "      <td>...</td>\n",
       "      <td>1</td>\n",
       "      <td>1</td>\n",
       "      <td>150</td>\n",
       "      <td>41401</td>\n",
       "      <td>9238e4f44c71a75282e62f7136c6b240</td>\n",
       "      <td>0</td>\n",
       "      <td>Good guard dog, very alert, active, obedience ...</td>\n",
       "      <td>5842f1ff5</td>\n",
       "      <td>8.0</td>\n",
       "      <td>2</td>\n",
       "    </tr>\n",
       "    <tr>\n",
       "      <th>4</th>\n",
       "      <td>1</td>\n",
       "      <td>Hunter</td>\n",
       "      <td>1</td>\n",
       "      <td>307</td>\n",
       "      <td>0</td>\n",
       "      <td>1</td>\n",
       "      <td>1</td>\n",
       "      <td>0</td>\n",
       "      <td>0</td>\n",
       "      <td>2</td>\n",
       "      <td>...</td>\n",
       "      <td>1</td>\n",
       "      <td>1</td>\n",
       "      <td>0</td>\n",
       "      <td>41326</td>\n",
       "      <td>95481e953f8aed9ec3d16fc4509537e8</td>\n",
       "      <td>0</td>\n",
       "      <td>This handsome yet cute boy is up for adoption....</td>\n",
       "      <td>850a43f90</td>\n",
       "      <td>3.0</td>\n",
       "      <td>2</td>\n",
       "    </tr>\n",
       "  </tbody>\n",
       "</table>\n",
       "<p>5 rows × 24 columns</p>\n",
       "</div>"
      ],
      "text/plain": [
       "   Type         Name  Age  Breed1  Breed2  Gender  Color1  Color2  Color3  \\\n",
       "0     2       Nibble    3     299       0       1       1       7       0   \n",
       "1     2  No Name Yet    1     265       0       1       1       2       0   \n",
       "2     1       Brisco    1     307       0       1       2       7       0   \n",
       "3     1         Miko    4     307       0       2       1       2       0   \n",
       "4     1       Hunter    1     307       0       1       1       0       0   \n",
       "\n",
       "   MaturitySize  ...  Health  Quantity  Fee  State  \\\n",
       "0             1  ...       1         1  100  41326   \n",
       "1             2  ...       1         1    0  41401   \n",
       "2             2  ...       1         1    0  41326   \n",
       "3             2  ...       1         1  150  41401   \n",
       "4             2  ...       1         1    0  41326   \n",
       "\n",
       "                          RescuerID  VideoAmt  \\\n",
       "0  8480853f516546f6cf33aa88cd76c379         0   \n",
       "1  3082c7125d8fb66f7dd4bff4192c8b14         0   \n",
       "2  fa90fa5b1ee11c86938398b60abc32cb         0   \n",
       "3  9238e4f44c71a75282e62f7136c6b240         0   \n",
       "4  95481e953f8aed9ec3d16fc4509537e8         0   \n",
       "\n",
       "                                         Description      PetID PhotoAmt  \\\n",
       "0  Nibble is a 3+ month old ball of cuteness. He ...  86e1089a3      1.0   \n",
       "1  I just found it alone yesterday near my apartm...  6296e909a      2.0   \n",
       "2  Their pregnant mother was dumped by her irresp...  3422e4906      7.0   \n",
       "3  Good guard dog, very alert, active, obedience ...  5842f1ff5      8.0   \n",
       "4  This handsome yet cute boy is up for adoption....  850a43f90      3.0   \n",
       "\n",
       "   AdoptionSpeed  \n",
       "0              2  \n",
       "1              0  \n",
       "2              3  \n",
       "3              2  \n",
       "4              2  \n",
       "\n",
       "[5 rows x 24 columns]"
      ]
     },
     "execution_count": 3,
     "metadata": {},
     "output_type": "execute_result"
    }
   ],
   "source": [
    "train_zip = \"../data/train.csv.zip\"\n",
    "train_df = pd.read_csv(train_zip, compression='zip')\n",
    "train_df.head()"
   ]
  },
  {
   "cell_type": "code",
   "execution_count": 4,
   "metadata": {},
   "outputs": [
    {
     "data": {
      "text/html": [
       "<div>\n",
       "<style scoped>\n",
       "    .dataframe tbody tr th:only-of-type {\n",
       "        vertical-align: middle;\n",
       "    }\n",
       "\n",
       "    .dataframe tbody tr th {\n",
       "        vertical-align: top;\n",
       "    }\n",
       "\n",
       "    .dataframe thead th {\n",
       "        text-align: right;\n",
       "    }\n",
       "</style>\n",
       "<table border=\"1\" class=\"dataframe\">\n",
       "  <thead>\n",
       "    <tr style=\"text-align: right;\">\n",
       "      <th></th>\n",
       "      <th>BreedID</th>\n",
       "      <th>Type</th>\n",
       "      <th>BreedName</th>\n",
       "    </tr>\n",
       "  </thead>\n",
       "  <tbody>\n",
       "    <tr>\n",
       "      <th>0</th>\n",
       "      <td>1</td>\n",
       "      <td>1</td>\n",
       "      <td>Affenpinscher</td>\n",
       "    </tr>\n",
       "    <tr>\n",
       "      <th>1</th>\n",
       "      <td>2</td>\n",
       "      <td>1</td>\n",
       "      <td>Afghan Hound</td>\n",
       "    </tr>\n",
       "    <tr>\n",
       "      <th>2</th>\n",
       "      <td>3</td>\n",
       "      <td>1</td>\n",
       "      <td>Airedale Terrier</td>\n",
       "    </tr>\n",
       "    <tr>\n",
       "      <th>3</th>\n",
       "      <td>4</td>\n",
       "      <td>1</td>\n",
       "      <td>Akbash</td>\n",
       "    </tr>\n",
       "    <tr>\n",
       "      <th>4</th>\n",
       "      <td>5</td>\n",
       "      <td>1</td>\n",
       "      <td>Akita</td>\n",
       "    </tr>\n",
       "  </tbody>\n",
       "</table>\n",
       "</div>"
      ],
      "text/plain": [
       "   BreedID  Type         BreedName\n",
       "0        1     1     Affenpinscher\n",
       "1        2     1      Afghan Hound\n",
       "2        3     1  Airedale Terrier\n",
       "3        4     1            Akbash\n",
       "4        5     1             Akita"
      ]
     },
     "execution_count": 4,
     "metadata": {},
     "output_type": "execute_result"
    }
   ],
   "source": [
    "breed_file = \"../data/breed_labels.csv\"\n",
    "breed_df = pd.read_csv(breed_file)\n",
    "breed_df.head()"
   ]
  },
  {
   "cell_type": "code",
   "execution_count": 18,
   "metadata": {},
   "outputs": [
    {
     "data": {
      "text/plain": [
       "(307, 3)"
      ]
     },
     "execution_count": 18,
     "metadata": {},
     "output_type": "execute_result"
    }
   ],
   "source": [
    "breed_df.shape"
   ]
  },
  {
   "cell_type": "code",
   "execution_count": 5,
   "metadata": {},
   "outputs": [
    {
     "data": {
      "text/html": [
       "<div>\n",
       "<style scoped>\n",
       "    .dataframe tbody tr th:only-of-type {\n",
       "        vertical-align: middle;\n",
       "    }\n",
       "\n",
       "    .dataframe tbody tr th {\n",
       "        vertical-align: top;\n",
       "    }\n",
       "\n",
       "    .dataframe thead th {\n",
       "        text-align: right;\n",
       "    }\n",
       "</style>\n",
       "<table border=\"1\" class=\"dataframe\">\n",
       "  <thead>\n",
       "    <tr style=\"text-align: right;\">\n",
       "      <th></th>\n",
       "      <th>Type</th>\n",
       "      <th>Name</th>\n",
       "      <th>Age</th>\n",
       "      <th>Breed1</th>\n",
       "      <th>Breed2</th>\n",
       "      <th>Gender</th>\n",
       "      <th>Color1</th>\n",
       "      <th>Color2</th>\n",
       "      <th>Color3</th>\n",
       "      <th>MaturitySize</th>\n",
       "      <th>...</th>\n",
       "      <th>State</th>\n",
       "      <th>RescuerID</th>\n",
       "      <th>VideoAmt</th>\n",
       "      <th>Description</th>\n",
       "      <th>PetID</th>\n",
       "      <th>PhotoAmt</th>\n",
       "      <th>AdoptionSpeed</th>\n",
       "      <th>BreedName1</th>\n",
       "      <th>BreedName2</th>\n",
       "      <th>AllBreeds</th>\n",
       "    </tr>\n",
       "  </thead>\n",
       "  <tbody>\n",
       "    <tr>\n",
       "      <th>0</th>\n",
       "      <td>2</td>\n",
       "      <td>Nibble</td>\n",
       "      <td>3</td>\n",
       "      <td>299</td>\n",
       "      <td>0</td>\n",
       "      <td>1</td>\n",
       "      <td>1</td>\n",
       "      <td>7</td>\n",
       "      <td>0</td>\n",
       "      <td>1</td>\n",
       "      <td>...</td>\n",
       "      <td>41326</td>\n",
       "      <td>8480853f516546f6cf33aa88cd76c379</td>\n",
       "      <td>0</td>\n",
       "      <td>Nibble is a 3+ month old ball of cuteness. He ...</td>\n",
       "      <td>86e1089a3</td>\n",
       "      <td>1.0</td>\n",
       "      <td>2</td>\n",
       "      <td>Tabby</td>\n",
       "      <td>NaN</td>\n",
       "      <td>NaN</td>\n",
       "    </tr>\n",
       "    <tr>\n",
       "      <th>1</th>\n",
       "      <td>2</td>\n",
       "      <td>No Name Yet</td>\n",
       "      <td>1</td>\n",
       "      <td>265</td>\n",
       "      <td>0</td>\n",
       "      <td>1</td>\n",
       "      <td>1</td>\n",
       "      <td>2</td>\n",
       "      <td>0</td>\n",
       "      <td>2</td>\n",
       "      <td>...</td>\n",
       "      <td>41401</td>\n",
       "      <td>3082c7125d8fb66f7dd4bff4192c8b14</td>\n",
       "      <td>0</td>\n",
       "      <td>I just found it alone yesterday near my apartm...</td>\n",
       "      <td>6296e909a</td>\n",
       "      <td>2.0</td>\n",
       "      <td>0</td>\n",
       "      <td>Domestic Medium Hair</td>\n",
       "      <td>NaN</td>\n",
       "      <td>NaN</td>\n",
       "    </tr>\n",
       "    <tr>\n",
       "      <th>2</th>\n",
       "      <td>1</td>\n",
       "      <td>Brisco</td>\n",
       "      <td>1</td>\n",
       "      <td>307</td>\n",
       "      <td>0</td>\n",
       "      <td>1</td>\n",
       "      <td>2</td>\n",
       "      <td>7</td>\n",
       "      <td>0</td>\n",
       "      <td>2</td>\n",
       "      <td>...</td>\n",
       "      <td>41326</td>\n",
       "      <td>fa90fa5b1ee11c86938398b60abc32cb</td>\n",
       "      <td>0</td>\n",
       "      <td>Their pregnant mother was dumped by her irresp...</td>\n",
       "      <td>3422e4906</td>\n",
       "      <td>7.0</td>\n",
       "      <td>3</td>\n",
       "      <td>Mixed Breed</td>\n",
       "      <td>NaN</td>\n",
       "      <td>NaN</td>\n",
       "    </tr>\n",
       "    <tr>\n",
       "      <th>3</th>\n",
       "      <td>1</td>\n",
       "      <td>Miko</td>\n",
       "      <td>4</td>\n",
       "      <td>307</td>\n",
       "      <td>0</td>\n",
       "      <td>2</td>\n",
       "      <td>1</td>\n",
       "      <td>2</td>\n",
       "      <td>0</td>\n",
       "      <td>2</td>\n",
       "      <td>...</td>\n",
       "      <td>41401</td>\n",
       "      <td>9238e4f44c71a75282e62f7136c6b240</td>\n",
       "      <td>0</td>\n",
       "      <td>Good guard dog, very alert, active, obedience ...</td>\n",
       "      <td>5842f1ff5</td>\n",
       "      <td>8.0</td>\n",
       "      <td>2</td>\n",
       "      <td>Mixed Breed</td>\n",
       "      <td>NaN</td>\n",
       "      <td>NaN</td>\n",
       "    </tr>\n",
       "    <tr>\n",
       "      <th>4</th>\n",
       "      <td>1</td>\n",
       "      <td>Hunter</td>\n",
       "      <td>1</td>\n",
       "      <td>307</td>\n",
       "      <td>0</td>\n",
       "      <td>1</td>\n",
       "      <td>1</td>\n",
       "      <td>0</td>\n",
       "      <td>0</td>\n",
       "      <td>2</td>\n",
       "      <td>...</td>\n",
       "      <td>41326</td>\n",
       "      <td>95481e953f8aed9ec3d16fc4509537e8</td>\n",
       "      <td>0</td>\n",
       "      <td>This handsome yet cute boy is up for adoption....</td>\n",
       "      <td>850a43f90</td>\n",
       "      <td>3.0</td>\n",
       "      <td>2</td>\n",
       "      <td>Mixed Breed</td>\n",
       "      <td>NaN</td>\n",
       "      <td>NaN</td>\n",
       "    </tr>\n",
       "  </tbody>\n",
       "</table>\n",
       "<p>5 rows × 27 columns</p>\n",
       "</div>"
      ],
      "text/plain": [
       "   Type         Name  Age  Breed1  Breed2  Gender  Color1  Color2  Color3  \\\n",
       "0     2       Nibble    3     299       0       1       1       7       0   \n",
       "1     2  No Name Yet    1     265       0       1       1       2       0   \n",
       "2     1       Brisco    1     307       0       1       2       7       0   \n",
       "3     1         Miko    4     307       0       2       1       2       0   \n",
       "4     1       Hunter    1     307       0       1       1       0       0   \n",
       "\n",
       "   MaturitySize  ...  State                         RescuerID  VideoAmt  \\\n",
       "0             1  ...  41326  8480853f516546f6cf33aa88cd76c379         0   \n",
       "1             2  ...  41401  3082c7125d8fb66f7dd4bff4192c8b14         0   \n",
       "2             2  ...  41326  fa90fa5b1ee11c86938398b60abc32cb         0   \n",
       "3             2  ...  41401  9238e4f44c71a75282e62f7136c6b240         0   \n",
       "4             2  ...  41326  95481e953f8aed9ec3d16fc4509537e8         0   \n",
       "\n",
       "                                         Description      PetID  PhotoAmt  \\\n",
       "0  Nibble is a 3+ month old ball of cuteness. He ...  86e1089a3       1.0   \n",
       "1  I just found it alone yesterday near my apartm...  6296e909a       2.0   \n",
       "2  Their pregnant mother was dumped by her irresp...  3422e4906       7.0   \n",
       "3  Good guard dog, very alert, active, obedience ...  5842f1ff5       8.0   \n",
       "4  This handsome yet cute boy is up for adoption....  850a43f90       3.0   \n",
       "\n",
       "   AdoptionSpeed            BreedName1 BreedName2  AllBreeds  \n",
       "0              2                 Tabby        NaN        NaN  \n",
       "1              0  Domestic Medium Hair        NaN        NaN  \n",
       "2              3           Mixed Breed        NaN        NaN  \n",
       "3              2           Mixed Breed        NaN        NaN  \n",
       "4              2           Mixed Breed        NaN        NaN  \n",
       "\n",
       "[5 rows x 27 columns]"
      ]
     },
     "execution_count": 5,
     "metadata": {},
     "output_type": "execute_result"
    }
   ],
   "source": [
    "df = pd.merge(train_df, breed_df[[\"BreedID\", \"BreedName\"]], how='left', left_on=\"Breed1\", right_on=\"BreedID\")\n",
    "df = df.drop([\"BreedID\"], axis=1)\n",
    "df = df.rename(columns={\"BreedName\": \"BreedName1\"})\n",
    "df = pd.merge(df, breed_df[[\"BreedID\", \"BreedName\"]], how='left', left_on=\"Breed2\", right_on=\"BreedID\")\n",
    "df = df.drop([\"BreedID\"], axis=1)\n",
    "df = df.rename(columns={\"BreedName\": \"BreedName2\"})\n",
    "df['AllBreeds'] = df['BreedName1'] + \"_\" + df['BreedName2']\n",
    "df.head()"
   ]
  },
  {
   "cell_type": "code",
   "execution_count": 20,
   "metadata": {},
   "outputs": [
    {
     "data": {
      "text/plain": [
       "Index(['Type', 'Name', 'Age', 'Breed1', 'Breed2', 'Gender', 'Color1', 'Color2',\n",
       "       'Color3', 'MaturitySize', 'FurLength', 'Vaccinated', 'Dewormed',\n",
       "       'Sterilized', 'Health', 'Quantity', 'Fee', 'State', 'RescuerID',\n",
       "       'VideoAmt', 'Description', 'PetID', 'PhotoAmt', 'AdoptionSpeed',\n",
       "       'BreedName1', 'BreedName2', 'AllBreeds'],\n",
       "      dtype='object')"
      ]
     },
     "execution_count": 20,
     "metadata": {},
     "output_type": "execute_result"
    }
   ],
   "source": [
    "df.columns"
   ]
  },
  {
   "cell_type": "code",
   "execution_count": 12,
   "metadata": {},
   "outputs": [
    {
     "data": {
      "text/plain": [
       "1    8132\n",
       "2    6861\n",
       "Name: Type, dtype: int64"
      ]
     },
     "execution_count": 12,
     "metadata": {},
     "output_type": "execute_result"
    }
   ],
   "source": [
    "df['Type'].value_counts()"
   ]
  },
  {
   "cell_type": "markdown",
   "metadata": {},
   "source": [
    "### Looking at Dog Breeds\n",
    "\n",
    "Observation: We can see that \"Mixed Breed\" (ID 307) is by far the most common breed. ~73% of lines with dog entries are Mixed Breed."
   ]
  },
  {
   "cell_type": "code",
   "execution_count": 75,
   "metadata": {},
   "outputs": [
    {
     "data": {
      "text/html": [
       "<div>\n",
       "<style scoped>\n",
       "    .dataframe tbody tr th:only-of-type {\n",
       "        vertical-align: middle;\n",
       "    }\n",
       "\n",
       "    .dataframe tbody tr th {\n",
       "        vertical-align: top;\n",
       "    }\n",
       "\n",
       "    .dataframe thead th {\n",
       "        text-align: right;\n",
       "    }\n",
       "</style>\n",
       "<table border=\"1\" class=\"dataframe\">\n",
       "  <thead>\n",
       "    <tr style=\"text-align: right;\">\n",
       "      <th></th>\n",
       "      <th>cnt</th>\n",
       "      <th>pct</th>\n",
       "    </tr>\n",
       "    <tr>\n",
       "      <th>BreedName1</th>\n",
       "      <th></th>\n",
       "      <th></th>\n",
       "    </tr>\n",
       "  </thead>\n",
       "  <tbody>\n",
       "    <tr>\n",
       "      <th>Mixed Breed</th>\n",
       "      <td>5923</td>\n",
       "      <td>72.835711</td>\n",
       "    </tr>\n",
       "    <tr>\n",
       "      <th>Labrador Retriever</th>\n",
       "      <td>205</td>\n",
       "      <td>2.520905</td>\n",
       "    </tr>\n",
       "    <tr>\n",
       "      <th>Shih Tzu</th>\n",
       "      <td>189</td>\n",
       "      <td>2.324152</td>\n",
       "    </tr>\n",
       "    <tr>\n",
       "      <th>Poodle</th>\n",
       "      <td>167</td>\n",
       "      <td>2.053615</td>\n",
       "    </tr>\n",
       "    <tr>\n",
       "      <th>Terrier</th>\n",
       "      <td>161</td>\n",
       "      <td>1.979833</td>\n",
       "    </tr>\n",
       "  </tbody>\n",
       "</table>\n",
       "</div>"
      ],
      "text/plain": [
       "                     cnt        pct\n",
       "BreedName1                         \n",
       "Mixed Breed         5923  72.835711\n",
       "Labrador Retriever   205   2.520905\n",
       "Shih Tzu             189   2.324152\n",
       "Poodle               167   2.053615\n",
       "Terrier              161   1.979833"
      ]
     },
     "execution_count": 75,
     "metadata": {},
     "output_type": "execute_result"
    }
   ],
   "source": [
    "sum_dogs = len(df.loc[df['Type'] == 1])\n",
    "dog_breeds_df = df.loc[df['Type'] == 1, 'BreedName1'].value_counts().to_frame()\n",
    "dog_breeds_df = dog_breeds_df.rename(columns={'BreedName1': 'cnt'})\n",
    "dog_breeds_df.index.name='BreedName1'\n",
    "dog_breeds_df['pct'] = 100 * (dog_breeds_df['cnt'] / sum_dogs)\n",
    "dog_breeds_df.head(5)"
   ]
  },
  {
   "cell_type": "markdown",
   "metadata": {},
   "source": [
    "Observation: Looking at the frequency of breeds without the \"Mixed Breed\" dogs, there appears to be a few tiers of popularity amoung breeds."
   ]
  },
  {
   "cell_type": "code",
   "execution_count": 32,
   "metadata": {},
   "outputs": [
    {
     "data": {
      "image/png": "[encoded data removed]",
      "text/plain": [
       "<Figure size 576x324 with 1 Axes>"
      ]
     },
     "metadata": {
      "needs_background": "light"
     },
     "output_type": "display_data"
    }
   ],
   "source": [
    "_ = df.loc[(df['Type'] == 1) & (df['Breed1'] != 307), 'BreedName1'].value_counts().head(20).plot(kind='bar',\n",
    "                                    figsize=(8,4.5),\n",
    "                                    title=\"Count of each First Breed\")\n",
    "_ = plt.xlabel(\"BreedName\")\n",
    "_ = plt.ylabel(\"Frequency\")"
   ]
  },
  {
   "cell_type": "markdown",
   "metadata": {},
   "source": [
    "**key observation: There are a set of rows that account for multiple dogs**"
   ]
  },
  {
   "cell_type": "code",
   "execution_count": 79,
   "metadata": {},
   "outputs": [
    {
     "data": {
      "image/png": "[encoded data removed]",
      "text/plain": [
       "<Figure size 576x324 with 1 Axes>"
      ]
     },
     "metadata": {
      "needs_background": "light"
     },
     "output_type": "display_data"
    }
   ],
   "source": [
    "_ = df.loc[(df['Type'] == 1), 'Quantity'].value_counts().head(20).plot(kind='bar',\n",
    "                                    figsize=(8,4.5),\n",
    "                                    title=\"Count by Line Quantity\")\n",
    "_ = plt.xlabel(\"Line Quantity\")\n",
    "_ = plt.ylabel(\"Frequency\")"
   ]
  },
  {
   "cell_type": "markdown",
   "metadata": {},
   "source": [
    "Observation: The large majority of multi-quantity lines are puppies."
   ]
  },
  {
   "cell_type": "code",
   "execution_count": 80,
   "metadata": {},
   "outputs": [
    {
     "data": {
      "image/png": "[encoded data removed]",
      "text/plain": [
       "<Figure size 576x324 with 1 Axes>"
      ]
     },
     "metadata": {
      "needs_background": "light"
     },
     "output_type": "display_data"
    }
   ],
   "source": [
    "_ = df.loc[(df['Type'] == 1) & (df['Quantity'] != 1), 'Age'].value_counts().head(20).plot(kind='bar',\n",
    "                                    figsize=(8,4.5),\n",
    "                                    title=\"Multi-quantity lines by age\")\n",
    "_ = plt.xlabel(\"Age\")\n",
    "_ = plt.ylabel(\"Frequency\")"
   ]
  },
  {
   "cell_type": "markdown",
   "metadata": {},
   "source": [
    "Defining \"puppies\" as lines with the \"Age\" label <= 4, let's take a look at the breed breakdown. \n",
    "\n",
    "Observation: Lines with multiple dogs seem to follow the same pattern as the general population, most are Mixed Breed."
   ]
  },
  {
   "cell_type": "code",
   "execution_count": 83,
   "metadata": {},
   "outputs": [
    {
     "data": {
      "text/plain": [
       "Mixed Breed           1101\n",
       "Labrador Retriever      17\n",
       "Terrier                 14\n",
       "Spitz                   11\n",
       "Rottweiler               6\n",
       "Name: BreedName1, dtype: int64"
      ]
     },
     "execution_count": 83,
     "metadata": {},
     "output_type": "execute_result"
    }
   ],
   "source": [
    "df.loc[(df['Type'] == 1) & (df['Quantity'] != 1) & (df['Age'] <= 4), 'BreedName1'].value_counts().head()"
   ]
  },
  {
   "cell_type": "markdown",
   "metadata": {},
   "source": [
    "### Looking at Cat Breeds\n",
    "\n",
    "Obseration: Most cat breeds are some variety of \"Domestic,\" totalling ~ 75.5% of all cats. There are a small number of other cat breeds that are common. This suggests a smaller set of popular breeds compared to dogs."
   ]
  },
  {
   "cell_type": "code",
   "execution_count": 85,
   "metadata": {},
   "outputs": [
    {
     "data": {
      "text/plain": [
       "Domestic Short Hair     3634\n",
       "Domestic Medium Hair    1258\n",
       "Tabby                    342\n",
       "Domestic Long Hair       296\n",
       "Siamese                  264\n",
       "Name: BreedName1, dtype: int64"
      ]
     },
     "execution_count": 85,
     "metadata": {},
     "output_type": "execute_result"
    }
   ],
   "source": [
    "df.loc[df['Type'] == 2, 'BreedName1'].value_counts().head()"
   ]
  },
  {
   "cell_type": "code",
   "execution_count": 86,
   "metadata": {},
   "outputs": [
    {
     "data": {
      "text/html": [
       "<div>\n",
       "<style scoped>\n",
       "    .dataframe tbody tr th:only-of-type {\n",
       "        vertical-align: middle;\n",
       "    }\n",
       "\n",
       "    .dataframe tbody tr th {\n",
       "        vertical-align: top;\n",
       "    }\n",
       "\n",
       "    .dataframe thead th {\n",
       "        text-align: right;\n",
       "    }\n",
       "</style>\n",
       "<table border=\"1\" class=\"dataframe\">\n",
       "  <thead>\n",
       "    <tr style=\"text-align: right;\">\n",
       "      <th></th>\n",
       "      <th>cnt</th>\n",
       "      <th>pct</th>\n",
       "    </tr>\n",
       "    <tr>\n",
       "      <th>BreedName1</th>\n",
       "      <th></th>\n",
       "      <th></th>\n",
       "    </tr>\n",
       "  </thead>\n",
       "  <tbody>\n",
       "    <tr>\n",
       "      <th>Domestic Short Hair</th>\n",
       "      <td>3634</td>\n",
       "      <td>52.966040</td>\n",
       "    </tr>\n",
       "    <tr>\n",
       "      <th>Domestic Medium Hair</th>\n",
       "      <td>1258</td>\n",
       "      <td>18.335520</td>\n",
       "    </tr>\n",
       "    <tr>\n",
       "      <th>Tabby</th>\n",
       "      <td>342</td>\n",
       "      <td>4.984696</td>\n",
       "    </tr>\n",
       "    <tr>\n",
       "      <th>Domestic Long Hair</th>\n",
       "      <td>296</td>\n",
       "      <td>4.314240</td>\n",
       "    </tr>\n",
       "    <tr>\n",
       "      <th>Siamese</th>\n",
       "      <td>264</td>\n",
       "      <td>3.847836</td>\n",
       "    </tr>\n",
       "    <tr>\n",
       "      <th>Persian</th>\n",
       "      <td>221</td>\n",
       "      <td>3.221105</td>\n",
       "    </tr>\n",
       "    <tr>\n",
       "      <th>Calico</th>\n",
       "      <td>105</td>\n",
       "      <td>1.530389</td>\n",
       "    </tr>\n",
       "    <tr>\n",
       "      <th>American Shorthair</th>\n",
       "      <td>94</td>\n",
       "      <td>1.370063</td>\n",
       "    </tr>\n",
       "    <tr>\n",
       "      <th>Oriental Short Hair</th>\n",
       "      <td>73</td>\n",
       "      <td>1.063985</td>\n",
       "    </tr>\n",
       "    <tr>\n",
       "      <th>Bengal</th>\n",
       "      <td>71</td>\n",
       "      <td>1.034835</td>\n",
       "    </tr>\n",
       "  </tbody>\n",
       "</table>\n",
       "</div>"
      ],
      "text/plain": [
       "                       cnt        pct\n",
       "BreedName1                           \n",
       "Domestic Short Hair   3634  52.966040\n",
       "Domestic Medium Hair  1258  18.335520\n",
       "Tabby                  342   4.984696\n",
       "Domestic Long Hair     296   4.314240\n",
       "Siamese                264   3.847836\n",
       "Persian                221   3.221105\n",
       "Calico                 105   1.530389\n",
       "American Shorthair      94   1.370063\n",
       "Oriental Short Hair     73   1.063985\n",
       "Bengal                  71   1.034835"
      ]
     },
     "execution_count": 86,
     "metadata": {},
     "output_type": "execute_result"
    }
   ],
   "source": [
    "sum_cats = len(df.loc[df['Type'] == 2])\n",
    "cat_breeds_df = df.loc[df['Type'] == 2, 'BreedName1'].value_counts().to_frame()\n",
    "cat_breeds_df = cat_breeds_df.rename(columns={'BreedName1': 'cnt'})\n",
    "cat_breeds_df.index.name='BreedName1'\n",
    "cat_breeds_df['pct'] = 100 * (cat_breeds_df['cnt'] / sum_cats)\n",
    "cat_breeds_df.head(10)"
   ]
  },
  {
   "cell_type": "markdown",
   "metadata": {},
   "source": [
    "Comparing Domestic cat types by hair descripion and FurLength input.\n",
    "\n",
    "Observation: Domestic Long Hairs are often labeled as 2-3 FurLength, Medium hairs usually have a FurLength of 2, and Short hairs usually have a FurLength of 1."
   ]
  },
  {
   "cell_type": "code",
   "execution_count": 87,
   "metadata": {},
   "outputs": [
    {
     "data": {
      "text/html": [
       "<div>\n",
       "<style scoped>\n",
       "    .dataframe tbody tr th:only-of-type {\n",
       "        vertical-align: middle;\n",
       "    }\n",
       "\n",
       "    .dataframe tbody tr th {\n",
       "        vertical-align: top;\n",
       "    }\n",
       "\n",
       "    .dataframe thead th {\n",
       "        text-align: right;\n",
       "    }\n",
       "</style>\n",
       "<table border=\"1\" class=\"dataframe\">\n",
       "  <thead>\n",
       "    <tr style=\"text-align: right;\">\n",
       "      <th></th>\n",
       "      <th>BreedID</th>\n",
       "      <th>Type</th>\n",
       "      <th>BreedName</th>\n",
       "    </tr>\n",
       "  </thead>\n",
       "  <tbody>\n",
       "    <tr>\n",
       "      <th>264</th>\n",
       "      <td>264</td>\n",
       "      <td>2</td>\n",
       "      <td>Domestic Long Hair</td>\n",
       "    </tr>\n",
       "    <tr>\n",
       "      <th>265</th>\n",
       "      <td>265</td>\n",
       "      <td>2</td>\n",
       "      <td>Domestic Medium Hair</td>\n",
       "    </tr>\n",
       "    <tr>\n",
       "      <th>266</th>\n",
       "      <td>266</td>\n",
       "      <td>2</td>\n",
       "      <td>Domestic Short Hair</td>\n",
       "    </tr>\n",
       "  </tbody>\n",
       "</table>\n",
       "</div>"
      ],
      "text/plain": [
       "     BreedID  Type             BreedName\n",
       "264      264     2    Domestic Long Hair\n",
       "265      265     2  Domestic Medium Hair\n",
       "266      266     2   Domestic Short Hair"
      ]
     },
     "execution_count": 87,
     "metadata": {},
     "output_type": "execute_result"
    }
   ],
   "source": [
    "breed_df.loc[(breed_df['BreedName'] == 'Domestic Short Hair') | (breed_df['BreedName'] == 'Domestic Medium Hair') | (breed_df['BreedName'] == 'Domestic Long Hair')]"
   ]
  },
  {
   "cell_type": "code",
   "execution_count": 88,
   "metadata": {},
   "outputs": [
    {
     "data": {
      "image/png": "[encoded data removed]",
      "text/plain": [
       "<Figure size 576x324 with 1 Axes>"
      ]
     },
     "metadata": {
      "needs_background": "light"
     },
     "output_type": "display_data"
    }
   ],
   "source": [
    "# domestic breeds vs hair reporting\n",
    "_ = df.loc[(df['Type'] == 2) & (df['Breed1'] == 264), 'FurLength'].value_counts().head(20).plot(kind='bar',\n",
    "                                    figsize=(8,4.5),\n",
    "                                    title=\"Count of Domestic Long Hair by FurLength\")\n",
    "_ = plt.xlabel(\"FurLength\")\n",
    "_ = plt.ylabel(\"Frequency\")"
   ]
  },
  {
   "cell_type": "code",
   "execution_count": 89,
   "metadata": {},
   "outputs": [
    {
     "data": {
      "image/png": "[encoded data removed]",
      "text/plain": [
       "<Figure size 576x324 with 1 Axes>"
      ]
     },
     "metadata": {
      "needs_background": "light"
     },
     "output_type": "display_data"
    }
   ],
   "source": [
    "# Domestic breeds vs hair reporting\n",
    "_ = df.loc[(df['Type'] == 2) & (df['Breed1'] == 265), 'FurLength'].value_counts().head(20).plot(kind='bar',\n",
    "                                    figsize=(8,4.5),\n",
    "                                    title=\"Count of Domestic Medium Hair by FurLength\")\n",
    "_ = plt.xlabel(\"FurLength\")\n",
    "_ = plt.ylabel(\"Frequency\")"
   ]
  },
  {
   "cell_type": "code",
   "execution_count": 90,
   "metadata": {},
   "outputs": [
    {
     "data": {
      "image/png": "[encoded data removed]",
      "text/plain": [
       "<Figure size 576x324 with 1 Axes>"
      ]
     },
     "metadata": {
      "needs_background": "light"
     },
     "output_type": "display_data"
    }
   ],
   "source": [
    "# Domestic breeds vs hair reporting\n",
    "_ = df.loc[(df['Type'] == 2) & (df['Breed1'] == 266), 'FurLength'].value_counts().head(20).plot(kind='bar',\n",
    "                                    figsize=(8,4.5),\n",
    "                                    title=\"Count of Domestic Short Hair by FurLength\")\n",
    "_ = plt.xlabel(\"FurLength\")\n",
    "_ = plt.ylabel(\"Frequency\")"
   ]
  },
  {
   "cell_type": "markdown",
   "metadata": {},
   "source": [
    "Excluding domestic cat types, and mixed breed dog types, There seems to be a less even distribution of breed types. This could mean that there are a smaller number of popular cat breeds compared to popular dog breeds. So perhaps non-domestic cat breeds could be more meaningful, compared to non-mixed dog breeds."
   ]
  },
  {
   "cell_type": "code",
   "execution_count": 91,
   "metadata": {},
   "outputs": [
    {
     "data": {
      "image/png": "[encoded data removed]",
      "text/plain": [
       "<Figure size 576x324 with 1 Axes>"
      ]
     },
     "metadata": {
      "needs_background": "light"
     },
     "output_type": "display_data"
    }
   ],
   "source": [
    "_ = df.loc[(df['Type'] == 2) & \n",
    "           (df['Breed1'] != 264) & (df['Breed1'] != 265) & (df['Breed1'] != 266),\n",
    "           'BreedName1'].value_counts().head(20).plot(kind='bar',\n",
    "                                    figsize=(8,4.5),\n",
    "                                    title=\"Count of each First Breed\")\n",
    "_ = plt.xlabel(\"BreedName\")\n",
    "_ = plt.ylabel(\"Frequency\")"
   ]
  },
  {
   "cell_type": "code",
   "execution_count": 92,
   "metadata": {},
   "outputs": [
    {
     "data": {
      "text/plain": [
       "Mixed Breed            1003\n",
       "Labrador Retriever       59\n",
       "Terrier                  54\n",
       "German Shepherd Dog      37\n",
       "Spitz                    26\n",
       "Name: BreedName2, dtype: int64"
      ]
     },
     "execution_count": 92,
     "metadata": {},
     "output_type": "execute_result"
    }
   ],
   "source": [
    "# Cat Top Second Breeds\n",
    "df.loc[(df['BreedName1'] == 'Mixed Breed') & (df['Type'] == 1), 'BreedName2'].value_counts().head()"
   ]
  },
  {
   "cell_type": "code",
   "execution_count": null,
   "metadata": {},
   "outputs": [],
   "source": []
  }
 ],
 "metadata": {
  "kernelspec": {
   "display_name": "petadoption",
   "language": "python",
   "name": "petadoption"
  },
  "language_info": {
   "codemirror_mode": {
    "name": "ipython",
    "version": 3
   },
   "file_extension": ".py",
   "mimetype": "text/x-python",
   "name": "python",
   "nbconvert_exporter": "python",
   "pygments_lexer": "ipython3",
   "version": "3.9.1"
  }
 },
 "nbformat": 4,
 "nbformat_minor": 4
}
